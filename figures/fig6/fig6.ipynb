{
 "cells": [
  {
   "cell_type": "code",
   "execution_count": 1,
   "id": "e60d160f",
   "metadata": {},
   "outputs": [],
   "source": [
    "import numpy as np \n",
    "import matplotlib.pyplot as plt\n",
    "import matplotlib.dates as mdates\n",
    "import datetime, os, glob, json, string, inspect, emcee\n",
    "from scipy.stats import median_abs_deviation, poisson\n",
    "from matplotlib.patches import Circle, Ellipse\n",
    "from astropy.wcs import WCS\n",
    "from astropy.nddata import Cutout2D\n",
    "import matplotlib.dates as mdates\n",
    "import matplotlib.ticker as ticker\n",
    "from astropy.io import ascii, fits\n",
    "from astropy import units as u\n",
    "from astropy.coordinates import SkyCoord\n",
    "from astropy.time import Time\n",
    "from PyDynamic import interp1d_unc\n",
    "from astropy.table import Table\n",
    "from matplotlib.ticker import (MultipleLocator, AutoMinorLocator)\n",
    "from mpl_toolkits.axes_grid1.inset_locator import (inset_axes, InsetPosition,\n",
    "                                                  mark_inset)\n",
    "import pickle as p"
   ]
  },
  {
   "cell_type": "markdown",
   "id": "53dbba48",
   "metadata": {},
   "source": [
    "## Load in the data"
   ]
  },
  {
   "cell_type": "code",
   "execution_count": 8,
   "id": "6d5e2ad8",
   "metadata": {},
   "outputs": [],
   "source": [
    "# Load in the file and image names and epoch corrections\n",
    "files  = sorted(glob.glob('../../analysis/meerkat/astrometry/total_field*.fits'))\n",
    "\n",
    "# Use the image with the largest number of sources\n",
    "for f, i in zip(files[:], images[:]):\n",
    "    \n",
    "    # Read in the PyBDSF file parameters\n",
    "    srl   = fits.open(f)\n",
    "    peak  = srl[1].data['Peak_flux']\n",
    "    srl.close()\n",
    "    \n",
    "    n_source = len(np.where(peak > 78e-6)[0])\n",
    "    \n",
    "# Beam major\n",
    "bmajs, bmins, bpas = np.genfromtxt('../../analysis/meerkat/astrometry/beams.txt', skip_header=1).T\n",
    "\n",
    "# Use the May 2023 images as it has the lowest RMS but the highest number of sources\n",
    "good_file  = files[-2]\n",
    "bmaj = bmajs[-2]\n",
    "bmin = bmins[-2]\n",
    "   \n",
    "# Read in the PyBDSF file parameters\n",
    "srl   = fits.open(good_file)\n",
    "peak  = srl[1].data['Peak_flux']\n",
    "isl   = srl[1].data['Isl_Total_flux']\n",
    "ra    = srl[1].data['RA']\n",
    "dec   = srl[1].data['DEC']\n",
    "major = srl[1].data['Maj_img_plane']\n",
    "minor = srl[1].data['Min_img_plane']\n",
    "srl.close()\n",
    "        \n",
    "# Calculate offset from phase_center\n",
    "phase_center = SkyCoord(\"18h10m44.47s -26d08m46.2s\", frame='icrs')\n",
    "coords = SkyCoord(ra = ra * u.deg, dec = dec * u.deg, frame='icrs')\n",
    "seps = coords.separation(phase_center).arcsec\n",
    "\n",
    "# Sort all of the arrays by separation distance\n",
    "index = np.argsort(seps)\n",
    "seps  = seps[index]\n",
    "peak  = peak[index]\n",
    "isl   = isl[index]\n",
    "ra    = ra[index]\n",
    "dec   = dec[index]\n",
    "major = major[index]\n",
    "minor = minor[index]\n",
    "\n",
    "# Calculate Ratios\n",
    "maj_ratio  = abs(major/bmaj - 1.0)\n",
    "min_ratio  = abs(minor/bmin - 1.0)\n",
    "flux_ratio = abs(peak/isl   - 1.0)\n",
    "\n",
    "# Get the number of sources from the index -- minimum included separation is 1% of image size\n",
    "threshold = 0.01\n",
    "seps_total      = seps[np.where((seps >= threshold * 7000) & (peak > 74.0e-6))] \n",
    "n_total_sources = np.arange(1,len(seps_total) + 1) + len(seps[np.where((seps < threshold * 7000) & (peak > 80.0e-6))])\n",
    "\n",
    "seps_point = seps[np.where((seps >= threshold * 7000) & (peak > 74.0e-6) & (flux_ratio < 0.25) & (maj_ratio < 0.25) & (min_ratio < 0.25))]\n",
    "n_point_sources = np.arange(1,len(seps_point) + 1) + len(seps[np.where((seps < threshold * 7000) & (peak > 80.0e-6) & (flux_ratio < 0.25) & (maj_ratio < 0.25) & (min_ratio < 0.25))])\n",
    "\n",
    "# Calculate the expected number of sources in a 3 arcsecond radius\n",
    "n_total_expected =  n_total_sources.astype(float)  * 3.0 ** 2  / seps_total ** 2 \n",
    "n_point_expected =  n_point_sources.astype(float)  * 3.0 ** 2  / seps_point ** 2 \n",
    "\n",
    "# Calculate the probabilities following Poissonian statistics\n",
    "total_prob   = (1.0 - poisson.cdf(k = 0, mu = n_total_expected)) * 100\n",
    "point_prob   = (1.0 - poisson.cdf(k = 0, mu = n_point_expected)) * 100"
   ]
  },
  {
   "cell_type": "markdown",
   "id": "65987f8d",
   "metadata": {},
   "source": [
    "## Plot the probability as a function of distance from the phase center"
   ]
  },
  {
   "cell_type": "code",
   "execution_count": null,
   "id": "b837483b",
   "metadata": {},
   "outputs": [],
   "source": []
  }
 ],
 "metadata": {
  "kernelspec": {
   "display_name": "Python 3 (ipykernel)",
   "language": "python",
   "name": "python3"
  },
  "language_info": {
   "codemirror_mode": {
    "name": "ipython",
    "version": 3
   },
   "file_extension": ".py",
   "mimetype": "text/x-python",
   "name": "python",
   "nbconvert_exporter": "python",
   "pygments_lexer": "ipython3",
   "version": "3.8.10"
  }
 },
 "nbformat": 4,
 "nbformat_minor": 5
}
